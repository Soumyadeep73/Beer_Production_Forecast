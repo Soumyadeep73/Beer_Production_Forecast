{
 "cells": [
  {
   "cell_type": "code",
   "execution_count": 1,
   "id": "a64bc87f",
   "metadata": {},
   "outputs": [
    {
     "name": "stderr",
     "output_type": "stream",
     "text": [
      "C:\\Users\\user\\.conda\\envs\\panadas-tutorial\\lib\\site-packages\\scipy\\__init__.py:146: UserWarning: A NumPy version >=1.16.5 and <1.23.0 is required for this version of SciPy (detected version 1.23.5\n",
      "  warnings.warn(f\"A NumPy version >={np_minversion} and <{np_maxversion}\"\n"
     ]
    }
   ],
   "source": [
    "import pandas as pd\n",
    "import numpy as np\n",
    "import seaborn as sns\n",
    "import matplotlib.pyplot as plt"
   ]
  },
  {
   "cell_type": "code",
   "execution_count": 2,
   "id": "7b3daa91",
   "metadata": {},
   "outputs": [
    {
     "data": {
      "text/html": [
       "<div>\n",
       "<style scoped>\n",
       "    .dataframe tbody tr th:only-of-type {\n",
       "        vertical-align: middle;\n",
       "    }\n",
       "\n",
       "    .dataframe tbody tr th {\n",
       "        vertical-align: top;\n",
       "    }\n",
       "\n",
       "    .dataframe thead th {\n",
       "        text-align: right;\n",
       "    }\n",
       "</style>\n",
       "<table border=\"1\" class=\"dataframe\">\n",
       "  <thead>\n",
       "    <tr style=\"text-align: right;\">\n",
       "      <th></th>\n",
       "      <th>Month</th>\n",
       "      <th>Monthly beer production</th>\n",
       "    </tr>\n",
       "  </thead>\n",
       "  <tbody>\n",
       "    <tr>\n",
       "      <th>0</th>\n",
       "      <td>1956-01</td>\n",
       "      <td>93.2</td>\n",
       "    </tr>\n",
       "    <tr>\n",
       "      <th>1</th>\n",
       "      <td>1956-02</td>\n",
       "      <td>96.0</td>\n",
       "    </tr>\n",
       "    <tr>\n",
       "      <th>2</th>\n",
       "      <td>1956-03</td>\n",
       "      <td>95.2</td>\n",
       "    </tr>\n",
       "    <tr>\n",
       "      <th>3</th>\n",
       "      <td>1956-04</td>\n",
       "      <td>77.1</td>\n",
       "    </tr>\n",
       "    <tr>\n",
       "      <th>4</th>\n",
       "      <td>1956-05</td>\n",
       "      <td>70.9</td>\n",
       "    </tr>\n",
       "  </tbody>\n",
       "</table>\n",
       "</div>"
      ],
      "text/plain": [
       "     Month  Monthly beer production\n",
       "0  1956-01                     93.2\n",
       "1  1956-02                     96.0\n",
       "2  1956-03                     95.2\n",
       "3  1956-04                     77.1\n",
       "4  1956-05                     70.9"
      ]
     },
     "execution_count": 2,
     "metadata": {},
     "output_type": "execute_result"
    }
   ],
   "source": [
    "df=pd.read_csv('bear.csv')\n",
    "df.head()"
   ]
  },
  {
   "cell_type": "code",
   "execution_count": 3,
   "id": "a215a562",
   "metadata": {},
   "outputs": [],
   "source": [
    "df.rename(columns = {'Monthly beer production':'production'}, inplace = True)"
   ]
  },
  {
   "cell_type": "code",
   "execution_count": 4,
   "id": "a8ad7c12",
   "metadata": {},
   "outputs": [],
   "source": [
    "df = df.set_index('Month')"
   ]
  },
  {
   "cell_type": "code",
   "execution_count": 5,
   "id": "8094751c",
   "metadata": {},
   "outputs": [
    {
     "data": {
      "text/plain": [
       "production    0\n",
       "dtype: int64"
      ]
     },
     "execution_count": 5,
     "metadata": {},
     "output_type": "execute_result"
    }
   ],
   "source": [
    "df.isnull().sum()"
   ]
  },
  {
   "cell_type": "code",
   "execution_count": 6,
   "id": "b28cfd44",
   "metadata": {},
   "outputs": [
    {
     "name": "stdout",
     "output_type": "stream",
     "text": [
      "ADF Statistic: -2.282661418787579\n",
      "p-value: 0.17762099829132444\n",
      "Critical Values:\n",
      "\t1%: -3.4447087976702284\n",
      "\t5%: -2.867871300049488\n",
      "\t10%: -2.5701423432047443\n",
      "The time series is not stationary.\n"
     ]
    }
   ],
   "source": [
    "from statsmodels.tsa.stattools import adfuller\n",
    "result = adfuller(df['production'])\n",
    "\n",
    "# print the test results\n",
    "print('ADF Statistic:', result[0])\n",
    "print('p-value:', result[1])\n",
    "print('Critical Values:')\n",
    "for key, value in result[4].items():\n",
    "    print('\\t{}: {}'.format(key, value))\n",
    "    \n",
    "# check if the time series is stationary\n",
    "if result[1] < 0.05 and result[0] < result[4]['5%']:\n",
    "    print('The time series is stationary.')\n",
    "else:\n",
    "    print('The time series is not stationary.')"
   ]
  },
  {
   "cell_type": "code",
   "execution_count": 7,
   "id": "75897fa9",
   "metadata": {},
   "outputs": [
    {
     "name": "stdout",
     "output_type": "stream",
     "text": [
      "The time series is stationary after first-order differencing.\n"
     ]
    }
   ],
   "source": [
    "# perform first-order differencing to make it stationary\n",
    "df['diff_1'] = df['production'].diff()\n",
    "\n",
    "df = df.fillna(df['diff_1'].mean())\n",
    "# check the stationarity of the differenced time series\n",
    "from statsmodels.tsa.stattools import adfuller\n",
    "result = adfuller(df['diff_1'].dropna())\n",
    "if result[1] < 0.05 and result[0] < result[4]['5%']:\n",
    "    print('The time series is stationary after first-order differencing.')\n",
    "else:\n",
    "    print('The time series is not stationary after first-order differencing.')"
   ]
  },
  {
   "cell_type": "code",
   "execution_count": 1,
   "id": "1cec6577",
   "metadata": {},
   "outputs": [
    {
     "ename": "NameError",
     "evalue": "name 'df' is not defined",
     "output_type": "error",
     "traceback": [
      "\u001b[1;31m---------------------------------------------------------------------------\u001b[0m",
      "\u001b[1;31mNameError\u001b[0m                                 Traceback (most recent call last)",
      "Cell \u001b[1;32mIn[1], line 1\u001b[0m\n\u001b[1;32m----> 1\u001b[0m \u001b[43mdf\u001b[49m\n",
      "\u001b[1;31mNameError\u001b[0m: name 'df' is not defined"
     ]
    }
   ],
   "source": [
    "df"
   ]
  },
  {
   "cell_type": "code",
   "execution_count": 9,
   "id": "5f7beb7d",
   "metadata": {},
   "outputs": [],
   "source": [
    "new_df=pd.DataFrame()\n",
    "new_df=df"
   ]
  },
  {
   "cell_type": "code",
   "execution_count": null,
   "id": "4fda6664",
   "metadata": {},
   "outputs": [],
   "source": []
  },
  {
   "cell_type": "code",
   "execution_count": 10,
   "id": "3acbce67",
   "metadata": {},
   "outputs": [],
   "source": [
    "new_df['Retrive']=new_df['production'].copy()"
   ]
  },
  {
   "cell_type": "code",
   "execution_count": 11,
   "id": "61aa4e5b",
   "metadata": {},
   "outputs": [
    {
     "data": {
      "text/html": [
       "<div>\n",
       "<style scoped>\n",
       "    .dataframe tbody tr th:only-of-type {\n",
       "        vertical-align: middle;\n",
       "    }\n",
       "\n",
       "    .dataframe tbody tr th {\n",
       "        vertical-align: top;\n",
       "    }\n",
       "\n",
       "    .dataframe thead th {\n",
       "        text-align: right;\n",
       "    }\n",
       "</style>\n",
       "<table border=\"1\" class=\"dataframe\">\n",
       "  <thead>\n",
       "    <tr style=\"text-align: right;\">\n",
       "      <th></th>\n",
       "      <th>production</th>\n",
       "      <th>diff_1</th>\n",
       "      <th>Retrive</th>\n",
       "    </tr>\n",
       "    <tr>\n",
       "      <th>Month</th>\n",
       "      <th></th>\n",
       "      <th></th>\n",
       "      <th></th>\n",
       "    </tr>\n",
       "  </thead>\n",
       "  <tbody>\n",
       "    <tr>\n",
       "      <th>1956-01</th>\n",
       "      <td>93.2</td>\n",
       "      <td>0.125895</td>\n",
       "      <td>93.2</td>\n",
       "    </tr>\n",
       "    <tr>\n",
       "      <th>1956-02</th>\n",
       "      <td>96.0</td>\n",
       "      <td>2.800000</td>\n",
       "      <td>96.0</td>\n",
       "    </tr>\n",
       "    <tr>\n",
       "      <th>1956-03</th>\n",
       "      <td>95.2</td>\n",
       "      <td>-0.800000</td>\n",
       "      <td>95.2</td>\n",
       "    </tr>\n",
       "    <tr>\n",
       "      <th>1956-04</th>\n",
       "      <td>77.1</td>\n",
       "      <td>-18.100000</td>\n",
       "      <td>77.1</td>\n",
       "    </tr>\n",
       "    <tr>\n",
       "      <th>1956-05</th>\n",
       "      <td>70.9</td>\n",
       "      <td>-6.200000</td>\n",
       "      <td>70.9</td>\n",
       "    </tr>\n",
       "    <tr>\n",
       "      <th>...</th>\n",
       "      <td>...</td>\n",
       "      <td>...</td>\n",
       "      <td>...</td>\n",
       "    </tr>\n",
       "    <tr>\n",
       "      <th>1995-04</th>\n",
       "      <td>127.0</td>\n",
       "      <td>-25.000000</td>\n",
       "      <td>127.0</td>\n",
       "    </tr>\n",
       "    <tr>\n",
       "      <th>1995-05</th>\n",
       "      <td>151.0</td>\n",
       "      <td>24.000000</td>\n",
       "      <td>151.0</td>\n",
       "    </tr>\n",
       "    <tr>\n",
       "      <th>1995-06</th>\n",
       "      <td>130.0</td>\n",
       "      <td>-21.000000</td>\n",
       "      <td>130.0</td>\n",
       "    </tr>\n",
       "    <tr>\n",
       "      <th>1995-07</th>\n",
       "      <td>119.0</td>\n",
       "      <td>-11.000000</td>\n",
       "      <td>119.0</td>\n",
       "    </tr>\n",
       "    <tr>\n",
       "      <th>1995-08</th>\n",
       "      <td>153.0</td>\n",
       "      <td>34.000000</td>\n",
       "      <td>153.0</td>\n",
       "    </tr>\n",
       "  </tbody>\n",
       "</table>\n",
       "<p>476 rows × 3 columns</p>\n",
       "</div>"
      ],
      "text/plain": [
       "         production     diff_1  Retrive\n",
       "Month                                  \n",
       "1956-01        93.2   0.125895     93.2\n",
       "1956-02        96.0   2.800000     96.0\n",
       "1956-03        95.2  -0.800000     95.2\n",
       "1956-04        77.1 -18.100000     77.1\n",
       "1956-05        70.9  -6.200000     70.9\n",
       "...             ...        ...      ...\n",
       "1995-04       127.0 -25.000000    127.0\n",
       "1995-05       151.0  24.000000    151.0\n",
       "1995-06       130.0 -21.000000    130.0\n",
       "1995-07       119.0 -11.000000    119.0\n",
       "1995-08       153.0  34.000000    153.0\n",
       "\n",
       "[476 rows x 3 columns]"
      ]
     },
     "execution_count": 11,
     "metadata": {},
     "output_type": "execute_result"
    }
   ],
   "source": [
    "new_df"
   ]
  },
  {
   "cell_type": "code",
   "execution_count": 12,
   "id": "8833bd27",
   "metadata": {},
   "outputs": [],
   "source": [
    "new_df = new_df.reset_index(drop=False)"
   ]
  },
  {
   "cell_type": "code",
   "execution_count": 13,
   "id": "577bc30f",
   "metadata": {},
   "outputs": [],
   "source": [
    "new_df.to_csv('Stationary.csv', index=False)"
   ]
  },
  {
   "cell_type": "code",
   "execution_count": 14,
   "id": "e7f20d45",
   "metadata": {},
   "outputs": [
    {
     "data": {
      "text/html": [
       "<div>\n",
       "<style scoped>\n",
       "    .dataframe tbody tr th:only-of-type {\n",
       "        vertical-align: middle;\n",
       "    }\n",
       "\n",
       "    .dataframe tbody tr th {\n",
       "        vertical-align: top;\n",
       "    }\n",
       "\n",
       "    .dataframe thead th {\n",
       "        text-align: right;\n",
       "    }\n",
       "</style>\n",
       "<table border=\"1\" class=\"dataframe\">\n",
       "  <thead>\n",
       "    <tr style=\"text-align: right;\">\n",
       "      <th></th>\n",
       "      <th>diff_1</th>\n",
       "    </tr>\n",
       "    <tr>\n",
       "      <th>Month</th>\n",
       "      <th></th>\n",
       "    </tr>\n",
       "  </thead>\n",
       "  <tbody>\n",
       "    <tr>\n",
       "      <th>1956-01</th>\n",
       "      <td>0.125895</td>\n",
       "    </tr>\n",
       "    <tr>\n",
       "      <th>1956-02</th>\n",
       "      <td>2.800000</td>\n",
       "    </tr>\n",
       "    <tr>\n",
       "      <th>1956-03</th>\n",
       "      <td>-0.800000</td>\n",
       "    </tr>\n",
       "    <tr>\n",
       "      <th>1956-04</th>\n",
       "      <td>-18.100000</td>\n",
       "    </tr>\n",
       "    <tr>\n",
       "      <th>1956-05</th>\n",
       "      <td>-6.200000</td>\n",
       "    </tr>\n",
       "    <tr>\n",
       "      <th>...</th>\n",
       "      <td>...</td>\n",
       "    </tr>\n",
       "    <tr>\n",
       "      <th>1995-04</th>\n",
       "      <td>-25.000000</td>\n",
       "    </tr>\n",
       "    <tr>\n",
       "      <th>1995-05</th>\n",
       "      <td>24.000000</td>\n",
       "    </tr>\n",
       "    <tr>\n",
       "      <th>1995-06</th>\n",
       "      <td>-21.000000</td>\n",
       "    </tr>\n",
       "    <tr>\n",
       "      <th>1995-07</th>\n",
       "      <td>-11.000000</td>\n",
       "    </tr>\n",
       "    <tr>\n",
       "      <th>1995-08</th>\n",
       "      <td>34.000000</td>\n",
       "    </tr>\n",
       "  </tbody>\n",
       "</table>\n",
       "<p>476 rows × 1 columns</p>\n",
       "</div>"
      ],
      "text/plain": [
       "            diff_1\n",
       "Month             \n",
       "1956-01   0.125895\n",
       "1956-02   2.800000\n",
       "1956-03  -0.800000\n",
       "1956-04 -18.100000\n",
       "1956-05  -6.200000\n",
       "...            ...\n",
       "1995-04 -25.000000\n",
       "1995-05  24.000000\n",
       "1995-06 -21.000000\n",
       "1995-07 -11.000000\n",
       "1995-08  34.000000\n",
       "\n",
       "[476 rows x 1 columns]"
      ]
     },
     "execution_count": 14,
     "metadata": {},
     "output_type": "execute_result"
    }
   ],
   "source": [
    "df_diff={}\n",
    "df_diff=pd.DataFrame(df_diff)\n",
    "df_diff['diff_1']=df['diff_1']\n",
    "df_diff"
   ]
  },
  {
   "cell_type": "code",
   "execution_count": null,
   "id": "2b203f2c",
   "metadata": {},
   "outputs": [],
   "source": []
  },
  {
   "cell_type": "code",
   "execution_count": 15,
   "id": "7240c461",
   "metadata": {},
   "outputs": [],
   "source": [
    "# Split the data into training and testing sets\n",
    "train_size = int(len(df_diff) * 0.8)\n",
    "train_data, test_data = df_diff[:train_size], df_diff[train_size:]"
   ]
  },
  {
   "cell_type": "code",
   "execution_count": 16,
   "id": "00a11246",
   "metadata": {},
   "outputs": [],
   "source": [
    "from statsmodels.tsa.arima.model import ARIMA\n",
    "from sklearn.metrics import mean_absolute_error, mean_squared_error"
   ]
  },
  {
   "cell_type": "code",
   "execution_count": 17,
   "id": "e14e330a",
   "metadata": {},
   "outputs": [
    {
     "name": "stderr",
     "output_type": "stream",
     "text": [
      "C:\\Users\\user\\.conda\\envs\\panadas-tutorial\\lib\\site-packages\\statsmodels\\tsa\\base\\tsa_model.py:471: ValueWarning: No frequency information was provided, so inferred frequency MS will be used.\n",
      "  self._init_dates(dates, freq)\n",
      "C:\\Users\\user\\.conda\\envs\\panadas-tutorial\\lib\\site-packages\\statsmodels\\tsa\\base\\tsa_model.py:471: ValueWarning: No frequency information was provided, so inferred frequency MS will be used.\n",
      "  self._init_dates(dates, freq)\n",
      "C:\\Users\\user\\.conda\\envs\\panadas-tutorial\\lib\\site-packages\\statsmodels\\tsa\\base\\tsa_model.py:471: ValueWarning: No frequency information was provided, so inferred frequency MS will be used.\n",
      "  self._init_dates(dates, freq)\n"
     ]
    },
    {
     "name": "stdout",
     "output_type": "stream",
     "text": [
      "ARIMA MAE: 17.23\n",
      "ARIMA RMSE: 22.37\n"
     ]
    }
   ],
   "source": [
    "# Perform ARIMA modeling\n",
    "arima_model = ARIMA(train_data['diff_1'], order=(2, 1, 0)).fit()\n",
    "arima_pred = arima_model.forecast(len(test_data))\n",
    "arima_mae = mean_absolute_error(test_data['diff_1'], arima_pred)\n",
    "arima_rmse = np.sqrt(mean_squared_error(test_data['diff_1'], arima_pred))\n",
    "print('ARIMA MAE: {:.2f}'.format(arima_mae))\n",
    "print('ARIMA RMSE: {:.2f}'.format(arima_rmse))"
   ]
  },
  {
   "cell_type": "code",
   "execution_count": 18,
   "id": "6f2d76dc",
   "metadata": {},
   "outputs": [],
   "source": [
    "#now predict with baseline"
   ]
  },
  {
   "cell_type": "code",
   "execution_count": 19,
   "id": "9fe88e50",
   "metadata": {},
   "outputs": [],
   "source": [
    "BaseLine=df_diff['diff_1'].mean()"
   ]
  },
  {
   "cell_type": "code",
   "execution_count": null,
   "id": "4788c336",
   "metadata": {},
   "outputs": [],
   "source": []
  },
  {
   "cell_type": "code",
   "execution_count": 20,
   "id": "24a8258e",
   "metadata": {},
   "outputs": [
    {
     "name": "stdout",
     "output_type": "stream",
     "text": [
      "MAE: 16.952083333333334\n",
      "RMSE: 22.109622566002354\n"
     ]
    }
   ],
   "source": [
    "# Create a DataFrame for predictions with a datetime index\n",
    "predictions = pd.DataFrame(index=df.index)\n",
    "\n",
    "# Set the predicted values to the mean value\n",
    "predictions['baseline'] = BaseLine\n",
    "predictions=predictions.iloc[:96, :]\n",
    "# Calculate the MAE and RMSE\n",
    "mae = mean_absolute_error(test_data['diff_1'], predictions['baseline'])\n",
    "rmse = mean_squared_error(test_data['diff_1'], predictions['baseline'], squared=False)\n",
    "\n",
    "# Print the MAE and RMSE\n",
    "print('MAE:', mae)\n",
    "print('RMSE:', rmse)"
   ]
  },
  {
   "cell_type": "code",
   "execution_count": 78,
   "id": "334c7946",
   "metadata": {},
   "outputs": [],
   "source": [
    "#as here we can observe that baseline mae and rmse values are nearest\n",
    "#now we try to make another model with more precision with CNN"
   ]
  },
  {
   "cell_type": "code",
   "execution_count": null,
   "id": "df04d7a3",
   "metadata": {},
   "outputs": [],
   "source": []
  }
 ],
 "metadata": {
  "kernelspec": {
   "display_name": "Python 3 (ipykernel)",
   "language": "python",
   "name": "python3"
  },
  "language_info": {
   "codemirror_mode": {
    "name": "ipython",
    "version": 3
   },
   "file_extension": ".py",
   "mimetype": "text/x-python",
   "name": "python",
   "nbconvert_exporter": "python",
   "pygments_lexer": "ipython3",
   "version": "3.9.12"
  }
 },
 "nbformat": 4,
 "nbformat_minor": 5
}
